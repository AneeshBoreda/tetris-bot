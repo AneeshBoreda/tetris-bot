{
 "cells": [
  {
   "cell_type": "code",
   "execution_count": 139,
   "metadata": {},
   "outputs": [],
   "source": [
    "import pyautogui as ag\n",
    "import matplotlib.pyplot as plt\n",
    "import numpy as np\n",
    "from pynput.keyboard import Key, Controller\n",
    "keyboard = Controller()\n",
    "import time\n",
    "%matplotlib inline"
   ]
  },
  {
   "cell_type": "code",
   "execution_count": 125,
   "metadata": {},
   "outputs": [
    {
     "data": {
      "text/plain": [
       "<matplotlib.image.AxesImage at 0x7fb3b2fb2be0>"
      ]
     },
     "execution_count": 125,
     "metadata": {},
     "output_type": "execute_result"
    },
    {
     "data": {
      "image/png": "[encoded data removed]",
      "text/plain": [
       "<Figure size 432x288 with 1 Axes>"
      ]
     },
     "metadata": {
      "needs_background": "light"
     },
     "output_type": "display_data"
    }
   ],
   "source": [
    "pox=700\n",
    "poy=196\n",
    "pw=96\n",
    "ph=96\n",
    "hox=324\n",
    "hoy=196\n",
    "hw=96\n",
    "hh=96\n",
    "box=430\n",
    "boy=196\n",
    "bw=242\n",
    "bh=482\n",
    "im=np.array(ag.screenshot(region=(box,boy,bw,bh)))\n",
    "plt.imshow(im)"
   ]
  },
  {
   "cell_type": "code",
   "execution_count": 134,
   "metadata": {},
   "outputs": [
    {
     "data": {
      "text/plain": [
       "<matplotlib.image.AxesImage at 0x7fb3b2d000b8>"
      ]
     },
     "execution_count": 134,
     "metadata": {},
     "output_type": "execute_result"
    },
    {
     "data": {
      "image/png": "[encoded data removed]",
      "text/plain": [
       "<Figure size 432x288 with 1 Axes>"
      ]
     },
     "metadata": {
      "needs_background": "light"
     },
     "output_type": "display_data"
    }
   ],
   "source": [
    "im2=im.copy()\n",
    "bsqo=12\n",
    "bgs=24\n",
    "for i in range(20):\n",
    "    for j in range(10):\n",
    "        y=bsqo+bgs*i\n",
    "        x=bsqo+bgs*j\n",
    "        im2[y:y+3,x:x+3]=np.array([255,0,0])\n",
    "plt.imshow(im2)"
   ]
  },
  {
   "cell_type": "code",
   "execution_count": 152,
   "metadata": {},
   "outputs": [],
   "source": [
    "\n",
    "sqo=12\n",
    "gs=24\n",
    "'''S,L,J,I,O,Z,T'''\n",
    "pc=dict()\n",
    "thresh=30\n",
    "pc['S']=((2,0),(2,1),(1,1),(1,2))\n",
    "pc['Z']=((2,2),(2,1),(1,1),(1,0))\n",
    "pc['O']=((1,1),(1,2),(2,1),(2,2))\n",
    "pc['I']=((1,1),(1,2),(1,0),(1,3))\n",
    "pc['J']=((1,0),(2,0),(2,1),(2,2))\n",
    "pc['L']=((1,2),(2,0),(2,1),(2,2))\n",
    "pc['T']=((1,1),(2,0),(2,1),(2,2))\n",
    "hvals=[-4.500158825082766,\n",
    "       3.4181268101392694,\n",
    "       -3.2178882868487753,\n",
    "       -9.348695305445199,\n",
    "       -7.899265427351652,\n",
    "       -3.3855972247263626]\n",
    "def getnextpiece():\n",
    "    im=np.array(ag.screenshot(region=(pox,poy,pw,ph)))\n",
    "    piece=None\n",
    "    for k,v in pc.items():\n",
    "        check=True\n",
    "        for y,x in v:\n",
    "            if np.sum(im[sqo+gs*y,sqo+gs*x])<thresh:\n",
    "                check=False\n",
    "        if check:\n",
    "            piece=k\n",
    "            break\n",
    "    return piece\n",
    "def getheldpiece():\n",
    "    im=np.array(ag.screenshot(region=(hox,hoy,hw,hh)))\n",
    "    piece=None\n",
    "    for k,v in pc.items():\n",
    "        check=True\n",
    "        for y,x in v:\n",
    "            if np.sum(im[sqo+gs*y,sqo+gs*x])<thresh:\n",
    "                check=False\n",
    "        if check:\n",
    "            piece=k\n",
    "            break\n",
    "    return piece\n",
    "def getboard():\n",
    "    im=np.array(ag.screenshot(region=(box,boy,bw,bh)))\n",
    "    board=np.zeros((20,10))\n",
    "    for i in range(1,20):\n",
    "        for j in range(10):\n",
    "            y=bsqo+bgs*i\n",
    "            x=bsqo+bgs*j\n",
    "            if np.sum(im[y,x])>thresh:\n",
    "                board[i,j]=1\n",
    "    #plt.imshow(board)\n",
    "    return board\n",
    "def press(key):\n",
    "    keyboard.press(key)\n",
    "    keyboard.release(key)\n",
    "def heuristic(board,landing_height,piece_height):\n",
    "    "
   ]
  },
  {
   "cell_type": "code",
   "execution_count": 153,
   "metadata": {},
   "outputs": [
    {
     "data": {
      "text/plain": [
       "array([[0., 0., 0., 0., 0., 0., 0., 0., 0., 0.],\n",
       "       [0., 0., 0., 1., 1., 1., 0., 0., 0., 0.],\n",
       "       [0., 0., 0., 0., 0., 0., 0., 0., 0., 0.],\n",
       "       [0., 0., 0., 0., 0., 0., 0., 0., 0., 0.],\n",
       "       [0., 0., 0., 0., 0., 0., 0., 0., 0., 0.],\n",
       "       [0., 0., 0., 0., 0., 0., 0., 0., 0., 0.],\n",
       "       [0., 0., 0., 0., 0., 0., 0., 0., 0., 0.],\n",
       "       [0., 0., 0., 0., 0., 0., 0., 0., 0., 0.],\n",
       "       [0., 0., 0., 0., 0., 0., 0., 0., 0., 0.],\n",
       "       [0., 0., 0., 0., 0., 0., 0., 0., 0., 0.],\n",
       "       [0., 0., 0., 0., 0., 0., 0., 0., 0., 0.],\n",
       "       [0., 0., 0., 0., 0., 0., 0., 0., 0., 0.],\n",
       "       [0., 0., 0., 0., 0., 0., 0., 0., 0., 0.],\n",
       "       [0., 0., 0., 0., 0., 0., 0., 0., 0., 0.],\n",
       "       [0., 0., 0., 0., 0., 0., 0., 0., 0., 0.],\n",
       "       [0., 0., 0., 0., 0., 0., 0., 0., 0., 0.],\n",
       "       [0., 0., 0., 0., 0., 0., 0., 0., 0., 0.],\n",
       "       [0., 0., 0., 0., 0., 0., 0., 0., 0., 0.],\n",
       "       [0., 0., 0., 0., 0., 0., 0., 0., 0., 0.],\n",
       "       [0., 0., 0., 0., 0., 0., 0., 0., 0., 0.]])"
      ]
     },
     "execution_count": 153,
     "metadata": {},
     "output_type": "execute_result"
    },
    {
     "data": {
      "image/png": "[encoded data removed]",
      "text/plain": [
       "<Figure size 432x288 with 1 Axes>"
      ]
     },
     "metadata": {
      "needs_background": "light"
     },
     "output_type": "display_data"
    }
   ],
   "source": [
    "getboard()"
   ]
  },
  {
   "cell_type": "code",
   "execution_count": 158,
   "metadata": {},
   "outputs": [],
   "source": [
    "start_delay=4.25\n",
    "delay=0.1\n",
    "def main():\n",
    "    held=None\n",
    "    cur=None\n",
    "    time.sleep(start_delay)\n",
    "    cur=getnextpiece()\n",
    "    #time.sleep(delay)\n",
    "    press('c')\n",
    "    time.sleep(delay)\n",
    "    held=getheldpiece()\n",
    "    nex=getnextpiece()\n",
    "    #press(Key.space)\n",
    "    #getboard()\n",
    "    print(held,cur,nex)\n",
    "    "
   ]
  },
  {
   "cell_type": "code",
   "execution_count": 159,
   "metadata": {},
   "outputs": [
    {
     "name": "stdout",
     "output_type": "stream",
     "text": [
      "J I O\n"
     ]
    }
   ],
   "source": [
    "main()"
   ]
  },
  {
   "cell_type": "code",
   "execution_count": null,
   "metadata": {},
   "outputs": [],
   "source": []
  }
 ],
 "metadata": {
  "kernelspec": {
   "display_name": "Python 3",
   "language": "python",
   "name": "python3"
  },
  "language_info": {
   "codemirror_mode": {
    "name": "ipython",
    "version": 3
   },
   "file_extension": ".py",
   "mimetype": "text/x-python",
   "name": "python",
   "nbconvert_exporter": "python",
   "pygments_lexer": "ipython3",
   "version": "3.7.3"
  }
 },
 "nbformat": 4,
 "nbformat_minor": 2
}
